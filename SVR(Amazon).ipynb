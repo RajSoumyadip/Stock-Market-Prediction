{
 "cells": [
  {
   "cell_type": "code",
   "execution_count": 1,
   "metadata": {},
   "outputs": [],
   "source": [
    "import numpy as np\n",
    "from sklearn.svm import SVR \n",
    "import matplotlib.pyplot as plt \n",
    "import pandas as pd \n",
    "\n",
    "%matplotlib inline"
   ]
  },
  {
   "cell_type": "code",
   "execution_count": 2,
   "metadata": {},
   "outputs": [
    {
     "data": {
      "text/html": [
       "<div>\n",
       "<style scoped>\n",
       "    .dataframe tbody tr th:only-of-type {\n",
       "        vertical-align: middle;\n",
       "    }\n",
       "\n",
       "    .dataframe tbody tr th {\n",
       "        vertical-align: top;\n",
       "    }\n",
       "\n",
       "    .dataframe thead th {\n",
       "        text-align: right;\n",
       "    }\n",
       "</style>\n",
       "<table border=\"1\" class=\"dataframe\">\n",
       "  <thead>\n",
       "    <tr style=\"text-align: right;\">\n",
       "      <th></th>\n",
       "      <th>volume</th>\n",
       "      <th>close</th>\n",
       "      <th>low</th>\n",
       "      <th>open</th>\n",
       "      <th>high</th>\n",
       "      <th>date</th>\n",
       "      <th>adjclose</th>\n",
       "    </tr>\n",
       "  </thead>\n",
       "  <tbody>\n",
       "    <tr>\n",
       "      <th>0</th>\n",
       "      <td>2790400</td>\n",
       "      <td>1791.439941</td>\n",
       "      <td>1785.209961</td>\n",
       "      <td>1788.010010</td>\n",
       "      <td>1797.449951</td>\n",
       "      <td>2019-11-01</td>\n",
       "      <td>1791.439941</td>\n",
       "    </tr>\n",
       "    <tr>\n",
       "      <th>1</th>\n",
       "      <td>2771900</td>\n",
       "      <td>1804.660034</td>\n",
       "      <td>1801.010010</td>\n",
       "      <td>1801.010010</td>\n",
       "      <td>1815.060059</td>\n",
       "      <td>2019-11-04</td>\n",
       "      <td>1804.660034</td>\n",
       "    </tr>\n",
       "    <tr>\n",
       "      <th>2</th>\n",
       "      <td>1885500</td>\n",
       "      <td>1801.709961</td>\n",
       "      <td>1794.000000</td>\n",
       "      <td>1809.160034</td>\n",
       "      <td>1810.250000</td>\n",
       "      <td>2019-11-05</td>\n",
       "      <td>1801.709961</td>\n",
       "    </tr>\n",
       "    <tr>\n",
       "      <th>3</th>\n",
       "      <td>2029800</td>\n",
       "      <td>1795.770020</td>\n",
       "      <td>1788.579956</td>\n",
       "      <td>1801.000000</td>\n",
       "      <td>1802.500000</td>\n",
       "      <td>2019-11-06</td>\n",
       "      <td>1795.770020</td>\n",
       "    </tr>\n",
       "    <tr>\n",
       "      <th>4</th>\n",
       "      <td>2651100</td>\n",
       "      <td>1788.199951</td>\n",
       "      <td>1783.479980</td>\n",
       "      <td>1803.760010</td>\n",
       "      <td>1805.900024</td>\n",
       "      <td>2019-11-07</td>\n",
       "      <td>1788.199951</td>\n",
       "    </tr>\n",
       "    <tr>\n",
       "      <th>5</th>\n",
       "      <td>2123300</td>\n",
       "      <td>1785.880005</td>\n",
       "      <td>1774.040039</td>\n",
       "      <td>1787.890015</td>\n",
       "      <td>1789.880005</td>\n",
       "      <td>2019-11-08</td>\n",
       "      <td>1785.880005</td>\n",
       "    </tr>\n",
       "    <tr>\n",
       "      <th>6</th>\n",
       "      <td>1946000</td>\n",
       "      <td>1771.650024</td>\n",
       "      <td>1767.130005</td>\n",
       "      <td>1778.000000</td>\n",
       "      <td>1780.000000</td>\n",
       "      <td>2019-11-11</td>\n",
       "      <td>1771.650024</td>\n",
       "    </tr>\n",
       "    <tr>\n",
       "      <th>7</th>\n",
       "      <td>2037600</td>\n",
       "      <td>1778.000000</td>\n",
       "      <td>1771.910034</td>\n",
       "      <td>1774.660034</td>\n",
       "      <td>1786.219971</td>\n",
       "      <td>2019-11-12</td>\n",
       "      <td>1778.000000</td>\n",
       "    </tr>\n",
       "    <tr>\n",
       "      <th>8</th>\n",
       "      <td>2989500</td>\n",
       "      <td>1753.109985</td>\n",
       "      <td>1747.319946</td>\n",
       "      <td>1773.390015</td>\n",
       "      <td>1775.000000</td>\n",
       "      <td>2019-11-13</td>\n",
       "      <td>1753.109985</td>\n",
       "    </tr>\n",
       "  </tbody>\n",
       "</table>\n",
       "</div>"
      ],
      "text/plain": [
       "    volume        close          low         open         high        date  \\\n",
       "0  2790400  1791.439941  1785.209961  1788.010010  1797.449951  2019-11-01   \n",
       "1  2771900  1804.660034  1801.010010  1801.010010  1815.060059  2019-11-04   \n",
       "2  1885500  1801.709961  1794.000000  1809.160034  1810.250000  2019-11-05   \n",
       "3  2029800  1795.770020  1788.579956  1801.000000  1802.500000  2019-11-06   \n",
       "4  2651100  1788.199951  1783.479980  1803.760010  1805.900024  2019-11-07   \n",
       "5  2123300  1785.880005  1774.040039  1787.890015  1789.880005  2019-11-08   \n",
       "6  1946000  1771.650024  1767.130005  1778.000000  1780.000000  2019-11-11   \n",
       "7  2037600  1778.000000  1771.910034  1774.660034  1786.219971  2019-11-12   \n",
       "8  2989500  1753.109985  1747.319946  1773.390015  1775.000000  2019-11-13   \n",
       "\n",
       "      adjclose  \n",
       "0  1791.439941  \n",
       "1  1804.660034  \n",
       "2  1801.709961  \n",
       "3  1795.770020  \n",
       "4  1788.199951  \n",
       "5  1785.880005  \n",
       "6  1771.650024  \n",
       "7  1778.000000  \n",
       "8  1753.109985  "
      ]
     },
     "execution_count": 2,
     "metadata": {},
     "output_type": "execute_result"
    }
   ],
   "source": [
    "from stockai import Stock\n",
    "\n",
    "td = Stock('AMZN')\n",
    "prices_list = td.get_historical_prices('2019-11-02', '2019-11-14')\n",
    "\n",
    "df = pd.DataFrame.from_dict(prices_list)\n",
    "df"
   ]
  },
  {
   "cell_type": "code",
   "execution_count": 3,
   "metadata": {},
   "outputs": [
    {
     "data": {
      "text/plain": [
       "[1, 4, 5, 6, 7, 8, 11, 12, 13]"
      ]
     },
     "execution_count": 3,
     "metadata": {},
     "output_type": "execute_result"
    }
   ],
   "source": [
    "# Get data function\n",
    "def get_data(df):  \n",
    "    data = df.copy()\n",
    "    data['date'] = data['date'].str.split('-').str[2]\n",
    "    data['date'] = pd.to_numeric(data['date'])\n",
    "    return [ data['date'].tolist(), data['close'].tolist() ] # Convert Series to list\n",
    "dates, prices = get_data(df)\n",
    "dates"
   ]
  },
  {
   "cell_type": "code",
   "execution_count": 13,
   "metadata": {},
   "outputs": [],
   "source": [
    "# predict and plot function\n",
    "def predict_prices(dates, prices, x):\n",
    "    dates = np.reshape(dates,(len(dates), 1)) # convert to 1xn dimension\n",
    "    x = np.reshape(x,(len(x), 1))\n",
    "    \n",
    "    svr_lin  = SVR(kernel='linear', C=1e3)\n",
    "    svr_poly = SVR(kernel='poly', C=1e3, degree=2)\n",
    "    svr_rbf = SVR(kernel='rbf', C=1e3, gamma=0.1)\n",
    "    \n",
    "    # Fit regression model\n",
    "    svr_lin .fit(dates, prices)\n",
    "    svr_poly.fit(dates, prices)\n",
    "    svr_rbf.fit(dates, prices)\n",
    "    \n",
    "    plt.scatter(dates, prices, c='k', label='Data')\n",
    "    plt.plot(dates, svr_lin.predict(dates), c='g', label='Linear model')\n",
    "    plt.plot(dates, svr_rbf.predict(dates), c='r', label='RBF model')    \n",
    "    plt.plot(dates, svr_poly.predict(dates), c='b', label='Polynomial model')\n",
    "    \n",
    "    plt.xlabel('Date')\n",
    "    plt.ylabel('Price')\n",
    "    plt.title('Support Vector Regression')\n",
    "    plt.legend()\n",
    "    plt.show()\n",
    "    return svr_rbf.predict(x)[0], svr_lin.predict(x)[0], svr_poly.predict(x)[0]\n"
   ]
  },
  {
   "cell_type": "code",
   "execution_count": 18,
   "metadata": {
    "scrolled": true
   },
   "outputs": [
    {
     "name": "stderr",
     "output_type": "stream",
     "text": [
      "/Library/Frameworks/Python.framework/Versions/3.7/lib/python3.7/site-packages/sklearn/svm/base.py:196: FutureWarning: The default value of gamma will change from 'auto' to 'scale' in version 0.22 to account better for unscaled features. Set gamma explicitly to 'auto' or 'scale' to avoid this warning.\n",
      "  \"avoid this warning.\", FutureWarning)\n"
     ]
    },
    {
     "data": {
      "image/png": "[encoded data removed]",
      "text/plain": [
       "<Figure size 432x288 with 1 Axes>"
      ]
     },
     "metadata": {
      "needs_background": "light"
     },
     "output_type": "display_data"
    },
    {
     "data": {
      "text/plain": [
       "(1727.6094926117291, 1757.688591657622, 1750.267675787005)"
      ]
     },
     "execution_count": 18,
     "metadata": {},
     "output_type": "execute_result"
    }
   ],
   "source": [
    "predicted_price = predict_prices(dates, prices, [14])\n",
    "predicted_price"
   ]
  },
  {
   "cell_type": "code",
   "execution_count": 19,
   "metadata": {},
   "outputs": [
    {
     "name": "stdout",
     "output_type": "stream",
     "text": [
      "[1753.1099853515625, 1753.1099853515625]\n"
     ]
    }
   ],
   "source": [
    "price = td.get_historical_prices('2019-11-14', '2019-11-14')\n",
    "print(price['close']) "
   ]
  },
  {
   "cell_type": "code",
   "execution_count": null,
   "metadata": {},
   "outputs": [],
   "source": []
  }
 ],
 "metadata": {
  "kernelspec": {
   "display_name": "Python 3",
   "language": "python",
   "name": "python3"
  },
  "language_info": {
   "codemirror_mode": {
    "name": "ipython",
    "version": 3
   },
   "file_extension": ".py",
   "mimetype": "text/x-python",
   "name": "python",
   "nbconvert_exporter": "python",
   "pygments_lexer": "ipython3",
   "version": "3.7.2"
  }
 },
 "nbformat": 4,
 "nbformat_minor": 2
}
